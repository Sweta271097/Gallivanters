{
  "nbformat": 4,
  "nbformat_minor": 0,
  "metadata": {
    "colab": {
      "name": "first.ipynb",
      "version": "0.3.2",
      "provenance": [],
      "private_outputs": true,
      "collapsed_sections": [],
      "include_colab_link": true
    },
    "kernelspec": {
      "name": "python3",
      "display_name": "Python 3"
    },
    "accelerator": "GPU"
  },
  "cells": [
    {
      "cell_type": "markdown",
      "metadata": {
        "id": "view-in-github",
        "colab_type": "text"
      },
      "source": [
        "<a href=\"https://colab.research.google.com/github/vignan8279/Gallivanters/blob/master/first.ipynb\" target=\"_parent\"><img src=\"https://colab.research.google.com/assets/colab-badge.svg\" alt=\"Open In Colab\"/></a>"
      ]
    },
    {
      "cell_type": "code",
      "metadata": {
        "id": "wZS9a8nSdH7F",
        "colab_type": "code",
        "colab": {}
      },
      "source": [
        "from google.colab import drive\n",
        "drive.mount('/content/gdrive')"
      ],
      "execution_count": 0,
      "outputs": []
    },
    {
      "cell_type": "code",
      "metadata": {
        "id": "9oyoe9GBe6ga",
        "colab_type": "code",
        "colab": {}
      },
      "source": [
        "from google.colab import drive\n",
        "\n",
        "drive.mount('/content/gdrive')\n",
        "root_path = 'gdrive/My Drive/your_project_folder/'"
      ],
      "execution_count": 0,
      "outputs": []
    },
    {
      "cell_type": "code",
      "metadata": {
        "id": "1K5HofIcfHSj",
        "colab_type": "code",
        "colab": {}
      },
      "source": [
        "from google.colab import files\n",
        "files.upload()"
      ],
      "execution_count": 0,
      "outputs": []
    },
    {
      "cell_type": "code",
      "metadata": {
        "id": "6Hvks-xJfpou",
        "colab_type": "code",
        "colab": {}
      },
      "source": [
        "!pip install -q kaggle\n",
        "!mkdir -p ~/.kaggle\n",
        "!cp kaggle.json ~/.kaggle/\n",
        "!ls ~/.kaggle\n",
        "!chmod 600 /root/.kaggle/kaggle.json "
      ],
      "execution_count": 0,
      "outputs": []
    },
    {
      "cell_type": "code",
      "metadata": {
        "id": "Nda4uQq9k6lU",
        "colab_type": "code",
        "colab": {}
      },
      "source": [
        "!kaggle competitions download -c Gallivanters -p /content/gdrive/My\\ Drive/kaggle/Gallivanters"
      ],
      "execution_count": 0,
      "outputs": []
    },
    {
      "cell_type": "code",
      "metadata": {
        "id": "yGilIZDzl0BJ",
        "colab_type": "code",
        "colab": {}
      },
      "source": [
        "import os\n",
        "os.chdir('/content/gdrive/My Drive/kaggle/Gallivanters')  #change dir\n",
        "# !mkdir train  #create a directory named train/\n",
        "# !mkdir test  #create a directory named test/\n",
        "#  !mkdir gallivanters\n",
        "# !mkdir country\n",
        "!unzip -q train.zip  #unzip data in train/\n",
        "!unzip -q test.zip  #unzip data in test/\n",
        "# !unzip -q gallivanters.zip -d gallivanters/\n",
        "!unzip -q country.zip \n",
        "# !unzip sample_submission.csv.zip\n",
        "# !unzip train_labels.csv.zip\n",
        "\n"
      ],
      "execution_count": 0,
      "outputs": []
    },
    {
      "cell_type": "code",
      "metadata": {
        "id": "Q-LLxP14pbAh",
        "colab_type": "code",
        "colab": {}
      },
      "source": [
        "import keras"
      ],
      "execution_count": 0,
      "outputs": []
    },
    {
      "cell_type": "code",
      "metadata": {
        "id": "PY8Yx_2rznHs",
        "colab_type": "code",
        "colab": {}
      },
      "source": [
        "from keras.layers import Input, Lambda, Dense, Flatten\n",
        "from keras.models import Model\n",
        "import numpy as np\n",
        "from glob import glob\n",
        "import matplotlib.pyplot as plt\n",
        "IMAGE_SIZE = [224, 224]\n",
        "train_path = '/content/gdrive/My Drive/kaggle/Gallivanters/train'\n",
        "test_path = '/content/gdrive/My Drive/kaggle/Gallivanters/test'\n",
        "country_path = '/content/gdrive/My Drive/kaggle/Gallivanters/country'\n"
      ],
      "execution_count": 0,
      "outputs": []
    },
    {
      "cell_type": "code",
      "metadata": {
        "id": "pl9PnBvk3VIe",
        "colab_type": "code",
        "colab": {}
      },
      "source": [
        "from keras.preprocessing.image import ImageDataGenerator\n",
        "train_datagen = ImageDataGenerator(rescale=1./255,shear_range=0.2,zoom_range=0.2,horizontal_flip=True)\n",
        "test_datagen = ImageDataGenerator(rescale=1./255)\n",
        "training_set = train_datagen.flow_from_directory('/content/gdrive/My Drive/kaggle/Gallivanters/train',target_size=(244, 244),batch_size=32,class_mode='categorical')\n",
        "test_set = test_datagen.flow_from_directory('/content/gdrive/My Drive/kaggle/Gallivanters/test',target_size=(244, 244),batch_size=32,class_mode='categorical')"
      ],
      "execution_count": 0,
      "outputs": []
    },
    {
      "cell_type": "code",
      "metadata": {
        "id": "4ySq_fPA6n22",
        "colab_type": "code",
        "colab": {}
      },
      "source": [
        "import keras\n",
        "import pathlib\n",
        "import imageio\n",
        "import os\n",
        "import cv2\n",
        "from pylab import *\n",
        "import numpy as np\n",
        "import matplotlib.pyplot as plt\n",
        "train_path = '/content/gdrive/My Drive/kaggle/Gallivanters/train'\n",
        "for category in config:\n",
        "  path = os.path.join(train_path, category)\n",
        "  for img in os.listdir(path):\n",
        "    img_arr=cv2.imread(os.path.join(path,img), cv2.IMREAD_GRAYSCALE)\n",
        "    # plt_imshow(img_arr, cmap=\"gray\")\n",
        "    # plt.show()\n",
        "    break\n",
        "  break"
      ],
      "execution_count": 0,
      "outputs": []
    },
    {
      "cell_type": "code",
      "metadata": {
        "id": "Hhj-ZgyXid1J",
        "colab_type": "code",
        "colab": {}
      },
      "source": [
        "print(img_arr.shape)"
      ],
      "execution_count": 0,
      "outputs": []
    },
    {
      "cell_type": "code",
      "metadata": {
        "id": "-I-aqfPcit7-",
        "colab_type": "code",
        "colab": {}
      },
      "source": [
        "IMG_SIZE = 50\n",
        "new_arr = cv2.resize(img_arr,(IMG_SIZE,IMG_SIZE))"
      ],
      "execution_count": 0,
      "outputs": []
    },
    {
      "cell_type": "code",
      "metadata": {
        "id": "CaZbhq1ljg0z",
        "colab_type": "code",
        "colab": {}
      },
      "source": [
        "\n",
        "def create_train_data():\n",
        "  for category in config:\n",
        "    path = os.path.join(train_path, category)\n",
        "    class_num = config.index(category)\n",
        "    for img in os.listdir(path):\n",
        "      # try:\n",
        "      img_arr = cv2.imread(os.path.join(path,img), cv2.IMREAD_GRAYSCALE)\n",
        "      new_arr = cv2.resize(img_arr,(IMG_SIZE,IMG_SIZE))\n",
        "      train_data.append([img_arr, class_num])\n",
        "      # except EXCEPTION as e:\n",
        "        # pass\n",
        "      \n",
        "create_train_data"
      ],
      "execution_count": 0,
      "outputs": []
    },
    {
      "cell_type": "code",
      "metadata": {
        "id": "kmaeERiFliaE",
        "colab_type": "code",
        "colab": {}
      },
      "source": [
        "print(train_data)"
      ],
      "execution_count": 0,
      "outputs": []
    },
    {
      "cell_type": "code",
      "metadata": {
        "id": "W5KRSszAfmnN",
        "colab_type": "code",
        "colab": {}
      },
      "source": [
        "import json\n",
        "config = json.loads(open('/content/gdrive/My Drive/kaggle/Gallivanters/country.json').read())\n",
        "config"
      ],
      "execution_count": 0,
      "outputs": []
    },
    {
      "cell_type": "markdown",
      "metadata": {
        "id": "ALcFOcNZqH02",
        "colab_type": "text"
      },
      "source": [
        "Reads the json file"
      ]
    }
  ]
}